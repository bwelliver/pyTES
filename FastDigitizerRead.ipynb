{
 "cells": [
  {
   "cell_type": "code",
   "execution_count": 1,
   "id": "47a5c7cb-0860-4b94-927c-82df081d6117",
   "metadata": {},
   "outputs": [],
   "source": [
    "import scipy as sp\n",
    "import numpy as np\n",
    "from scipy.fftpack import fft, fftfreq\n",
    "from scipy.signal import find_peaks\n",
    "\n",
    "from matplotlib import pyplot as plt\n",
    "from matplotlib.ticker import (AutoMinorLocator, MultipleLocator)\n",
    "plt.rcParams[\"figure.figsize\"] = (8,6)\n",
    "plt.rcParams['font.size'] = 20"
   ]
  },
  {
   "cell_type": "code",
   "execution_count": 2,
   "id": "59c49d7c-1d3f-4802-8908-000d6d98b9ab",
   "metadata": {},
   "outputs": [],
   "source": [
    "from newfastdigitizer2root_ygk import *"
   ]
  },
  {
   "cell_type": "code",
   "execution_count": 3,
   "id": "7f3841ff-da11-43e0-8c73-c108dce164c9",
   "metadata": {},
   "outputs": [],
   "source": [
    "#dir = \"/project/projectdirs/ld_tes/data/ACBias/20210916_ACBias/\"\n",
    "dir = \"/project/projectdirs/ld_tes/data/ACBias/20210920_ACBias/\"\n",
    "run = \"HFRun2\"\n",
    "partial = \"_1\""
   ]
  },
  {
   "cell_type": "code",
   "execution_count": 4,
   "id": "08da584e-45da-4587-a535-0659bb8226d7",
   "metadata": {},
   "outputs": [],
   "source": [
    "header_info, ch_info = read_new_header_file(dir+run+\".hdr\")"
   ]
  },
  {
   "cell_type": "code",
   "execution_count": 5,
   "id": "65668b11-c8a5-4583-9beb-f75ea476f612",
   "metadata": {},
   "outputs": [
    {
     "data": {
      "text/plain": [
       "{'Iteration number': '0',\n",
       " 'Iteration time': '60',\n",
       " 'Sampling Frequency': '10000000',\n",
       " 'Acquired points': '250000',\n",
       " 'Trigger Position': '10',\n",
       " 'Trigger channel': '0',\n",
       " '# channels': '2',\n",
       " 'CH0 Vertical range': '30.000000',\n",
       " 'CH0 Input impedance': '1000000',\n",
       " 'CH0 Probe attenuation': '1',\n",
       " 'CH1 Vertical range': '0.200000',\n",
       " 'CH1 Input impedance': '1000000',\n",
       " 'CH1 Probe attenuation': '1',\n",
       " 'BK channel': '1',\n",
       " 'BK waveform': '',\n",
       " 'BK amplitude': '0.000000',\n",
       " 'BK offset': '0.000000',\n",
       " 'BK frequency': '0.000000',\n",
       " 'BK phase': '0.000000',\n",
       " 'Start time UNIX': 1632176812.495564,\n",
       " 'Start date': '9/20/2021',\n",
       " 'Start time': '3:26:52 PM',\n",
       " 'Final iteration': '6',\n",
       " 'Real time': '332.456269',\n",
       " 'Live time': '1.999848',\n",
       " 'Trigger number': '2712',\n",
       " 'Stop time UNIX': 1632177146.1676488,\n",
       " 'Stop date': '9/20/2021',\n",
       " 'Stop Time': '3:32:26 PM'}"
      ]
     },
     "execution_count": 5,
     "metadata": {},
     "output_type": "execute_result"
    }
   ],
   "source": [
    "header_info = parse_header_time(header_info,0)\n",
    "header_info"
   ]
  },
  {
   "cell_type": "code",
   "execution_count": 6,
   "id": "ae626284-fad1-4dc1-a0e7-af5bf41eda45",
   "metadata": {},
   "outputs": [],
   "source": [
    "byteFile = all_bytes_from_file(dir+run+partial+\".dat\")"
   ]
  },
  {
   "cell_type": "code",
   "execution_count": 7,
   "id": "e279437d-e97a-4e16-bdb6-477947ff4182",
   "metadata": {},
   "outputs": [
    {
     "name": "stdout",
     "output_type": "stream",
     "text": [
      "Read 0 records\n",
      "Read 10 records\n",
      "Read 20 records\n",
      "Read 30 records\n",
      "Read 40 records\n",
      "Read 50 records\n",
      "Read 60 records\n",
      "Read 70 records\n",
      "Read 80 records\n",
      "Read 90 records\n",
      "Read 100 records\n",
      "Read 110 records\n",
      "Read 120 records\n",
      "Read 130 records\n",
      "Read 140 records\n",
      "Read 150 records\n",
      "Read 160 records\n",
      "Read 170 records\n",
      "Read 180 records\n",
      "Read 190 records\n",
      "Read 200 records\n",
      "Read 210 records\n",
      "Read 220 records\n",
      "Read 230 records\n",
      "Read 240 records\n",
      "Read 250 records\n",
      "Read 260 records\n",
      "Read 270 records\n",
      "Read 280 records\n",
      "Read 290 records\n",
      "Read 300 records\n",
      "Read 310 records\n",
      "Read 320 records\n",
      "Read 330 records\n",
      "Read 340 records\n",
      "Read 350 records\n",
      "Read 360 records\n",
      "Read 370 records\n",
      "Read 380 records\n",
      "Read 390 records\n",
      "Read 400 records\n",
      "Read 410 records\n",
      "Read 420 records\n",
      "Read 430 records\n",
      "Read 440 records\n",
      "Read 450 records\n",
      "Read 460 records\n",
      "Read 470 records\n",
      "Read 480 records\n"
     ]
    }
   ],
   "source": [
    "parsed_data = parse_binary_data(byteFile, header_info, ch_info, endian='<')"
   ]
  },
  {
   "cell_type": "code",
   "execution_count": 8,
   "id": "4a114eef-ea2b-40ce-a407-6f1ada956d6d",
   "metadata": {},
   "outputs": [
    {
     "name": "stdout",
     "output_type": "stream",
     "text": [
      "Sampling frequency = 10.0 MHz\n",
      "Baseline = -2.72e-03 V\n"
     ]
    },
    {
     "data": {
      "image/png": "[encoded data removed]",
      "text/plain": [
       "<Figure size 432x288 with 1 Axes>"
      ]
     },
     "metadata": {
      "needs_background": "light"
     },
     "output_type": "display_data"
    }
   ],
   "source": [
    "d0=parsed_data[0][0]['data']\n",
    "d1=parsed_data[0][1]['data']\n",
    "fs = float(header_info['Sampling Frequency'])\n",
    "print('Sampling frequency = {0:.1f} MHz'.format(fs/1e6))\n",
    "\n",
    "t = np.arange(len(d1))/fs\n",
    "\n",
    "toff=0.0\n",
    "tl=0.003e2\n",
    "off=int(toff*fs)\n",
    "l=int(tl*fs)\n",
    "\n",
    "plt.plot(t[off:off+l],d1[off:off+l])\n",
    "print('Baseline = {0:8.2e} V'.format(np.mean(d1[off:off+l])))\n",
    "#plt.scatter(d0[:],d1[:],marker='.')"
   ]
  },
  {
   "cell_type": "code",
   "execution_count": null,
   "id": "26fe0e35-2ce0-4690-bcfb-b8fe5c43dffd",
   "metadata": {},
   "outputs": [],
   "source": []
  }
 ],
 "metadata": {
  "kernelspec": {
   "display_name": "Python 3",
   "language": "python",
   "name": "python3"
  },
  "language_info": {
   "codemirror_mode": {
    "name": "ipython",
    "version": 3
   },
   "file_extension": ".py",
   "mimetype": "text/x-python",
   "name": "python",
   "nbconvert_exporter": "python",
   "pygments_lexer": "ipython3",
   "version": "3.7.4"
  }
 },
 "nbformat": 4,
 "nbformat_minor": 5
}
